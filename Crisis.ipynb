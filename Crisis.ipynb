{
  "nbformat": 4,
  "nbformat_minor": 5,
  "metadata": {
    "kernelspec": {
      "display_name": "Python 3",
      "language": "python",
      "name": "python3"
    },
    "language_info": {
      "codemirror_mode": {
        "name": "ipython",
        "version": 3
      },
      "file_extension": ".py",
      "mimetype": "text/x-python",
      "name": "python",
      "nbconvert_exporter": "python",
      "pygments_lexer": "ipython3",
      "version": "3.9.0"
    },
    "colab": {
      "name": "Artathon-Covid-Crisis.ipynb",
      "provenance": []
    }
  },
  "cells": [
    {
      "cell_type": "code",
      "metadata": {
        "id": "fd8bd305"
      },
      "source": [
        "from __future__ import print_function\n",
        "\n",
        "import torch\n",
        "import torch.nn as nn\n",
        "import torch.nn.functional as F\n",
        "import torch.optim as optim\n",
        "\n",
        "from PIL import Image\n",
        "import matplotlib.pyplot as plt\n",
        "\n",
        "import torchvision.transforms as transforms\n",
        "import torchvision.models as models\n",
        "\n",
        "import copy"
      ],
      "id": "fd8bd305",
      "execution_count": null,
      "outputs": []
    },
    {
      "cell_type": "code",
      "metadata": {
        "id": "53fd8795"
      },
      "source": [
        "device = torch.device(\"cuda:0\" if torch.cuda.is_available() else \"cpu\")"
      ],
      "id": "53fd8795",
      "execution_count": null,
      "outputs": []
    },
    {
      "cell_type": "code",
      "metadata": {
        "id": "18ddb5bf"
      },
      "source": [
        "# desired size of the output image\n",
        "imsize = (512, 512) # Here we tried several sizes which highly affected the output results\n",
        "\n",
        "loader = transforms.Compose([\n",
        "    transforms.Resize(imsize),  # scale imported image\n",
        "    transforms.ToTensor()])  # transform it into a torch tensor\n",
        "\n",
        "\n",
        "def image_loader(image_name):\n",
        "    image = Image.open(image_name)\n",
        "    image = image.convert('RGB')\n",
        "    print(image.size)\n",
        "    # fake batch dimension required to fit network's input dimensions\n",
        "    image = loader(image).unsqueeze(0)\n",
        "    print(image.shape)\n",
        "    return image.to(device, torch.float)"
      ],
      "id": "18ddb5bf",
      "execution_count": null,
      "outputs": []
    },
    {
      "cell_type": "code",
      "metadata": {
        "id": "667bb38c"
      },
      "source": [
        "class ContentLoss(nn.Module):\n",
        "\n",
        "    def __init__(self, target,):\n",
        "        super(ContentLoss, self).__init__()\n",
        "        # we 'detach' the target content from the tree used\n",
        "        # to dynamically compute the gradient: this is a stated value,\n",
        "        # not a variable. Otherwise the forward method of the criterion\n",
        "        # will throw an error.\n",
        "        self.target = target.detach()\n",
        "\n",
        "    def forward(self, input):\n",
        "        self.loss = F.mse_loss(input, self.target)\n",
        "        return input"
      ],
      "id": "667bb38c",
      "execution_count": null,
      "outputs": []
    },
    {
      "cell_type": "code",
      "metadata": {
        "id": "7d5621df"
      },
      "source": [
        "def gram_matrix(input):\n",
        "    a, b, c, d = input.size()  # a=batch size(=1)\n",
        "    # b=number of feature maps\n",
        "    # (c,d)=dimensions of a f. map (N=c*d)\n",
        "\n",
        "    features = input.view(a * b, c * d)  # resise F_XL into \\hat F_XL\n",
        "\n",
        "    G = torch.mm(features, features.t())  # compute the gram product\n",
        "\n",
        "    # we 'normalize' the values of the gram matrix\n",
        "    # by dividing by the number of element in each feature maps.\n",
        "    return G.div(a * b * c * d)"
      ],
      "id": "7d5621df",
      "execution_count": null,
      "outputs": []
    },
    {
      "cell_type": "code",
      "metadata": {
        "id": "1671b029"
      },
      "source": [
        "class StyleLoss(nn.Module):\n",
        "\n",
        "    def __init__(self, target_feature):\n",
        "        super(StyleLoss, self).__init__()\n",
        "        self.target = gram_matrix(target_feature).detach()\n",
        "\n",
        "    def forward(self, input):\n",
        "        G = gram_matrix(input)\n",
        "        self.loss = F.mse_loss(G, self.target)\n",
        "        return input"
      ],
      "id": "1671b029",
      "execution_count": null,
      "outputs": []
    },
    {
      "cell_type": "code",
      "metadata": {
        "id": "25240034"
      },
      "source": [
        "cnn = models.vgg19(pretrained=True).features.to(device).eval()"
      ],
      "id": "25240034",
      "execution_count": null,
      "outputs": []
    },
    {
      "cell_type": "code",
      "metadata": {
        "id": "4559a5a7"
      },
      "source": [
        "cnn_normalization_mean = torch.tensor([0.485, 0.456, 0.406]).to(device)\n",
        "cnn_normalization_std = torch.tensor([0.229, 0.224, 0.225]).to(device)\n",
        "\n",
        "# create a module to normalize input image so we can easily put it in a\n",
        "# nn.Sequential\n",
        "class Normalization(nn.Module):\n",
        "    def __init__(self, mean, std):\n",
        "        super(Normalization, self).__init__()\n",
        "        # .view the mean and std to make them [C x 1 x 1] so that they can\n",
        "        # directly work with image Tensor of shape [B x C x H x W].\n",
        "        # B is batch size. C is number of channels. H is height and W is width.\n",
        "        self.mean = torch.tensor(mean).view(-1, 1, 1)\n",
        "        self.std = torch.tensor(std).view(-1, 1, 1)\n",
        "\n",
        "    def forward(self, img):\n",
        "        # normalize img\n",
        "        return (img - self.mean) / self.std"
      ],
      "id": "4559a5a7",
      "execution_count": null,
      "outputs": []
    },
    {
      "cell_type": "code",
      "metadata": {
        "id": "0c669f72"
      },
      "source": [
        "# desired depth layers to compute style/content losses :\n",
        "content_layers_default = ['conv_5']\n",
        "\n",
        "style_layers_default = None # just an initialization, we will be feeding this to the \"get_style_model_and_losses\" function\n",
        "\n",
        "def get_style_model_and_losses(cnn, normalization_mean, normalization_std,\n",
        "                               style_img, content_img,\n",
        "                               content_layers=content_layers_default,\n",
        "                               style_layers=style_layers_default):\n",
        "    # normalization module\n",
        "    normalization = Normalization(normalization_mean, normalization_std).to(device)\n",
        "\n",
        "    # just in order to have an iterable access to or list of content/syle\n",
        "    # losses\n",
        "    content_losses = []\n",
        "    style_losses = []\n",
        "\n",
        "    # assuming that cnn is a nn.Sequential, so we make a new nn.Sequential\n",
        "    # to put in modules that are supposed to be activated sequentially\n",
        "    model = nn.Sequential(normalization)\n",
        "\n",
        "    i = 0  # increment every time we see a conv\n",
        "    for layer in cnn.children():\n",
        "        if isinstance(layer, nn.Conv2d):\n",
        "            i += 1\n",
        "            name = 'conv_{}'.format(i)\n",
        "        elif isinstance(layer, nn.ReLU):\n",
        "            name = 'relu_{}'.format(i)\n",
        "            # The in-place version doesn't play very nicely with the ContentLoss\n",
        "            # and StyleLoss we insert below. So we replace with out-of-place\n",
        "            # ones here.\n",
        "            layer = nn.ReLU(inplace=False)\n",
        "        elif isinstance(layer, nn.MaxPool2d):\n",
        "            name = 'pool_{}'.format(i)\n",
        "        elif isinstance(layer, nn.BatchNorm2d):\n",
        "            name = 'bn_{}'.format(i)\n",
        "        else:\n",
        "            raise RuntimeError('Unrecognized layer: {}'.format(layer.__class__.__name__))\n",
        "\n",
        "        model.add_module(name, layer)\n",
        "\n",
        "        if name in content_layers:\n",
        "            # add content loss:\n",
        "            target = model(content_img).detach()\n",
        "            content_loss = ContentLoss(target)\n",
        "            model.add_module(\"content_loss_{}\".format(i), content_loss)\n",
        "            content_losses.append(content_loss)\n",
        "\n",
        "        if name in style_layers:\n",
        "            # add style loss:\n",
        "            target_feature = model(style_img).detach()\n",
        "            style_loss = StyleLoss(target_feature)\n",
        "            model.add_module(\"style_loss_{}\".format(i), style_loss)\n",
        "            style_losses.append(style_loss)\n",
        "\n",
        "    # now we trim off the layers after the last content and style losses\n",
        "    for i in range(len(model) - 1, -1, -1):\n",
        "        if isinstance(model[i], ContentLoss) or isinstance(model[i], StyleLoss):\n",
        "            break\n",
        "\n",
        "    model = model[:(i + 1)]\n",
        "\n",
        "    return model, style_losses, content_losses"
      ],
      "id": "0c669f72",
      "execution_count": null,
      "outputs": []
    },
    {
      "cell_type": "code",
      "metadata": {
        "id": "4cf0fcde"
      },
      "source": [
        "def get_input_optimizer(input_img):\n",
        "    # this line to show that input is a parameter that requires a gradient\n",
        "    optimizer = optim.LBFGS([input_img])\n",
        "    return optimizer"
      ],
      "id": "4cf0fcde",
      "execution_count": null,
      "outputs": []
    },
    {
      "cell_type": "code",
      "metadata": {
        "id": "3a8e1ae4"
      },
      "source": [
        "def run_style_transfer(cnn, normalization_mean, normalization_std,\n",
        "                       content_img, style_img1, p1, style_img2, input_img, num_steps=300,\n",
        "                       style_weight=1000000, content_weight=1):\n",
        "    \"\"\"Run the style transfer.\"\"\"\n",
        "    print('Building the style transfer model..')\n",
        "    model1, style_losses1, content_losses1 = get_style_model_and_losses(cnn,\n",
        "        normalization_mean, normalization_std, style_img1, content_img, style_layers=style_layers_default1)\n",
        "    model2, style_losses2, content_losses1 = get_style_model_and_losses(cnn,\n",
        "        normalization_mean, normalization_std, style_img2, content_img, style_layers=style_layers_default2)\n",
        "    \n",
        "#     style_losses1 = [0.5*i for i in style_losses1]  # here we tried weighted the losses but we figured a better place for that\n",
        "#     style_losses2 = [0.5*i for i in style_losses2]\n",
        "#     style_losses = 0.style_losses1 + 0.style_losses2\n",
        "    content_losses = content_losses1\n",
        "    \n",
        "#     model = model2\n",
        "    \n",
        "    # We want to optimize the input and not the model parameters so we\n",
        "    # update all the requires_grad fields accordingly\n",
        "    input_img.requires_grad_(True)\n",
        "    model1.requires_grad_(False)\n",
        "    model2.requires_grad_(False) # here we are using 2 models so that we can make the novel dual style transfer\n",
        "\n",
        "    optimizer = get_input_optimizer(input_img)\n",
        "\n",
        "    print('Optimizing..')\n",
        "    run = [0]\n",
        "    while run[0] <= num_steps:\n",
        "\n",
        "        def closure():\n",
        "            # correct the values of updated input image\n",
        "            with torch.no_grad():\n",
        "                input_img.clamp_(0, 1)\n",
        "\n",
        "            optimizer.zero_grad()\n",
        "            model1(input_img)\n",
        "            model2(input_img)\n",
        "            style_score = 0\n",
        "            content_score = 0\n",
        "            # here we are using 2 style losses to make sure we get to the result were the input image get the style of the 2 images\n",
        "            for sl in style_losses1:\n",
        "                style_score += p1*sl.loss\n",
        "            for sl in style_losses2:\n",
        "                style_score += (1-p1)*sl.loss\n",
        "                \n",
        "            for cl in content_losses:\n",
        "                content_score += cl.loss\n",
        "\n",
        "            style_score *= style_weight\n",
        "            content_score *= content_weight\n",
        "\n",
        "            loss = style_score + content_score\n",
        "            loss.backward()\n",
        "\n",
        "            run[0] += 1\n",
        "            if run[0] % 50 == 0:\n",
        "                print(\"run {}:\".format(run))\n",
        "                print('Style Loss : {:4f} Content Loss: {:4f}'.format(\n",
        "                    style_score.item(), content_score.item()))\n",
        "                print()\n",
        "\n",
        "            return style_score + content_score\n",
        "#         torch.nn.utils.clip_grad_value_(input_img, 0.1) # we had a problem with exploiding gradiants, but we fixed it without the need of clip_grad, however we have to use it at some conditions\n",
        "        optimizer.step(closure)\n",
        "\n",
        "    # a last correction...\n",
        "    with torch.no_grad():\n",
        "        input_img.clamp_(0, 1)\n",
        "\n",
        "    return input_img"
      ],
      "id": "3a8e1ae4",
      "execution_count": null,
      "outputs": []
    },
    {
      "cell_type": "code",
      "metadata": {
        "id": "227b4d79"
      },
      "source": [
        "unloader = transforms.ToPILImage()  # reconvert into PIL image\n",
        "\n",
        "plt.ion()\n",
        "\n",
        "def imshow(tensor, title=None):\n",
        "    image = tensor.cpu().clone()  # we clone the tensor to not do changes on it\n",
        "    image = image.squeeze(0)      # remove the fake batch dimension\n",
        "    image = unloader(image)\n",
        "    plt.imshow(image)\n",
        "    if title is not None:\n",
        "        plt.title(title)\n",
        "    plt.pause(0.001) # pause a bit so that plots are updated"
      ],
      "id": "227b4d79",
      "execution_count": null,
      "outputs": []
    },
    {
      "cell_type": "code",
      "metadata": {
        "id": "5975cfbc"
      },
      "source": [
        "# Here we can manipulate the layers to be used for the style transfer, we tried removing different layers for each style, we had an intresting results.\n",
        "style_layers_default1 = ['conv_1', 'conv_2', 'conv_3', 'conv_4', 'conv_5']\n",
        "style_layers_default2 = ['conv_1', 'conv_2', 'conv_3', 'conv_4', 'conv_5']"
      ],
      "id": "5975cfbc",
      "execution_count": null,
      "outputs": []
    },
    {
      "cell_type": "code",
      "metadata": {
        "scrolled": true,
        "id": "131185be"
      },
      "source": [
        "# We have 2 styles to transfer to the content image, we start by loading them\n",
        "style_img1 = image_loader(\"/home/faisal/Desktop/style5.jpeg\")\n",
        "style_img2 = image_loader(\"/home/faisal/Desktop/style11.jpg\")\n",
        "# load the content image\n",
        "content_img = image_loader(\"/home/faisal/Desktop/content.png\")\n",
        "# here the input_img is the same as the content image, we will be modifying the content image later\n",
        "input_img = content_img.clone()\n",
        "# Here we have a parammeter called p, but in function we used 0.5 as a value, this will be resposible for the ratio between the two styles,\n",
        "# for example we can get 80% of 1 style and 20% of the second one, and playing with variable will make a huge role in the output\n",
        "output = run_style_transfer(cnn, cnn_normalization_mean, cnn_normalization_std,\n",
        "                            content_img, style_img1, 0.5, style_img2, input_img)\n",
        "\n"
      ],
      "id": "131185be",
      "execution_count": null,
      "outputs": []
    },
    {
      "cell_type": "code",
      "metadata": {
        "id": "f74d8c64"
      },
      "source": [
        "from PIL import Image"
      ],
      "id": "f74d8c64",
      "execution_count": null,
      "outputs": []
    },
    {
      "cell_type": "code",
      "metadata": {
        "scrolled": true,
        "id": "525a88a4"
      },
      "source": [
        "plt.figure()\n",
        "imshow(output)\n",
        "# imshow(output, title='Output Image')\n",
        "# img = unloader(output.detach().cpu()[0])\n",
        "# img.save(\"output3.png\")\n",
        "# sphinx_gallery_thumbnail_number = 4\n",
        "plt.ioff()\n",
        "plt.show()"
      ],
      "id": "525a88a4",
      "execution_count": null,
      "outputs": []
    },
    {
      "cell_type": "code",
      "metadata": {
        "id": "28d092dc"
      },
      "source": [
        "# img = unloader(output.detach().cpu()[0])\n",
        "# img.save(\"output3.png\")"
      ],
      "id": "28d092dc",
      "execution_count": null,
      "outputs": []
    },
    {
      "cell_type": "code",
      "metadata": {
        "id": "32bf36c3"
      },
      "source": [
        "style_img1.shape"
      ],
      "id": "32bf36c3",
      "execution_count": null,
      "outputs": []
    },
    {
      "cell_type": "code",
      "metadata": {
        "id": "b1bb7db4"
      },
      "source": [
        "\n",
        "\n",
        "im_rgb = style_img1[:, [2, 1, 0], :, :]\n",
        "# Image.fromarray(im_rgb).save('data/dst/lena_swap.jpg')\n",
        "\n",
        "# im_rgb = im_bgr[:, :, ::-1]\n",
        "# Image.fromarray(im_rgb).save('data/dst/lena_swap_2.jpg')\n"
      ],
      "id": "b1bb7db4",
      "execution_count": null,
      "outputs": []
    },
    {
      "cell_type": "code",
      "metadata": {
        "id": "e77dc24d"
      },
      "source": [
        "imshow(im_rgb)"
      ],
      "id": "e77dc24d",
      "execution_count": null,
      "outputs": []
    },
    {
      "cell_type": "code",
      "metadata": {
        "id": "7770addf"
      },
      "source": [
        "\n",
        "\n",
        "\n",
        "plt.figure()\n",
        "imshow(style_img1, title='Style Image')\n",
        "\n",
        "plt.figure()\n",
        "imshow(style_img2, title='Style Image')\n",
        "\n",
        "plt.figure()\n",
        "imshow(content_img, title='Content Image')"
      ],
      "id": "7770addf",
      "execution_count": null,
      "outputs": []
    },
    {
      "cell_type": "code",
      "metadata": {
        "id": "d75f30a6"
      },
      "source": [
        ""
      ],
      "id": "d75f30a6",
      "execution_count": null,
      "outputs": []
    },
    {
      "cell_type": "code",
      "metadata": {
        "id": "bb62ed28"
      },
      "source": [
        ""
      ],
      "id": "bb62ed28",
      "execution_count": null,
      "outputs": []
    }
  ]
}